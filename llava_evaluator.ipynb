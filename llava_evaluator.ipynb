{
 "cells": [
  {
   "cell_type": "code",
   "execution_count": 3,
   "metadata": {},
   "outputs": [
    {
     "name": "stdout",
     "output_type": "stream",
     "text": [
      " The image you've provided appears to be a digital illustration or photograph of a hand-drawn representation of an ice cream cone on top of a piece of paper. The ice cream is colored in shades of blue and green, with a pink cherry as the topping. On the left side of this image, there's a note written in all caps that says \"CLASSIFIED,\" suggesting it might be a part of some confidential or secret information. The overall style suggests that the image could be a playful or artistic take on a \"classified\" subject matter, perhaps relating to food or dessert due to the ice cream cone motif."
     ]
    }
   ],
   "source": [
    "# evaluation with generate\n",
    "import ollama\n",
    "\n",
    "model_name = 'llava:13b'\n",
    "options = {\n",
    "    'num_predict':-1,\n",
    "    'temperature':0.0\n",
    "    }\n",
    "\n",
    "\n",
    "res = ollama.chat(\n",
    "\tmodel=model_name,\n",
    "\tmessages=[\n",
    "\t\t{\n",
    "\t\t\t'role': 'user',\n",
    "\t\t\t'content': 'Describe this image',\n",
    "\t\t\t'images': ['IMG_0084.png']\n",
    "\t\t}\n",
    "\t],\n",
    "    stream=True\n",
    ")\n",
    "\n",
    "# print(res['message']['content'])\n",
    "for chunk in res:\n",
    "    print(chunk['message']['content'], end='', flush=True)"
   ]
  }
 ],
 "metadata": {
  "kernelspec": {
   "display_name": "venv",
   "language": "python",
   "name": "python3"
  },
  "language_info": {
   "codemirror_mode": {
    "name": "ipython",
    "version": 3
   },
   "file_extension": ".py",
   "mimetype": "text/x-python",
   "name": "python",
   "nbconvert_exporter": "python",
   "pygments_lexer": "ipython3",
   "version": "3.10.13"
  }
 },
 "nbformat": 4,
 "nbformat_minor": 2
}
